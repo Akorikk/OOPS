{
 "cells": [
  {
   "cell_type": "code",
   "execution_count": 2,
   "id": "96f0325f",
   "metadata": {},
   "outputs": [],
   "source": [
    "class AtmMachine:\n",
    "    def __init__(self): \n",
    "        self.pin = \"\"\n",
    "        self.balance = 0\n",
    "        self.menu()\n",
    "\n",
    "\n",
    "\n",
    "    def menu(self):\n",
    "        user_input = input(\n",
    "            \"\"\"\n",
    "            Hi how can i help you \n",
    "\n",
    "            1. Press 1 to Create pin \n",
    "            2. Press 2 to change pin\n",
    "            3. Press 3 to chick balance\n",
    "            4. Press 4 to withdraw \n",
    "            5. Anything to exit\n",
    "            \"\"\"\n",
    "        )\n",
    "\n",
    "\n",
    "        if user_input == \"1\":\n",
    "            self.create_pin() \n",
    "\n",
    "        elif user_input == \"2\":\n",
    "            self.change_pin()\n",
    "\n",
    "        elif user_input == \"3\":\n",
    "            self.check_balaced\n",
    "\n",
    "        elif user_input == \"4\" :\n",
    "            self.money_withdraw()\n",
    "\n",
    "        else:\n",
    "            exit()\n",
    "\n",
    "\n",
    "\n",
    "    def create_pin(self):\n",
    "        user_pin = input(\"Enter Your Pin\")\n",
    "        self.create_pin = user_pin\n",
    "\n",
    "        user_balance = int(input(\"Enter Balance:  \"))\n",
    "        self.balance = user_balance\n",
    "\n",
    "        print(\"Pin Created Successfully!\")\n",
    "        self.menu()\n",
    "\n",
    "\n",
    "    def change_pin(self):\n",
    "        old_pin = input(\"Enter your old Pin: \")\n",
    "\n",
    "        if old_pin == self.pin:\n",
    "            new_pin = input(\"Enter new pin:  \")\n",
    "            self.pin = new_pin\n",
    "            print(\"pin changed Successfully!\")\n",
    "            self.menu()\n",
    "        else:\n",
    "            print(\"Invaild pin\")\n",
    "            self.menu()    \n",
    "\n",
    "    def check_balaced(self):\n",
    "        user_pin = input(\"enter your pin: \")\n",
    "        if user_pin == self.pin:\n",
    "            print(f\"your balance is {self.balance}\")\n",
    "        else:\n",
    "            print(\"Your pin is incorrect \")\n",
    "        self.menu()  \n",
    "\n",
    "    def money_withdraw(self):\n",
    "        user_pin = input(\"enter your pin: \")\n",
    "        if user_pin == self.pin:\n",
    "            amount = input(\"enter the number: \")\n",
    "            if amount <= self.balance:\n",
    "                self.balance = self.balance - amount\n",
    "                print(f\"you have withdraw {amount}, your new balance is {self.balance}\")\n",
    "\n",
    "\n",
    "            else:\n",
    "                print(\"your pin is incorrect \")\n",
    "            self.menu()"
   ]
  },
  {
   "cell_type": "code",
   "execution_count": null,
   "id": "5541e0a3",
   "metadata": {},
   "outputs": [
    {
     "ename": "",
     "evalue": "",
     "output_type": "error",
     "traceback": [
      "\u001b[1;31mThe Kernel crashed while executing code in the current cell or a previous cell. \n",
      "\u001b[1;31mPlease review the code in the cell(s) to identify a possible cause of the failure. \n",
      "\u001b[1;31mClick <a href='https://aka.ms/vscodeJupyterKernelCrash'>here</a> for more info. \n",
      "\u001b[1;31mView Jupyter <a href='command:jupyter.viewOutput'>log</a> for further details."
     ]
    }
   ],
   "source": [
    "obj = AtmMachine()"
   ]
  },
  {
   "cell_type": "code",
   "execution_count": null,
   "id": "90b9e34b",
   "metadata": {},
   "outputs": [],
   "source": []
  }
 ],
 "metadata": {
  "kernelspec": {
   "display_name": "Python 3",
   "language": "python",
   "name": "python3"
  },
  "language_info": {
   "codemirror_mode": {
    "name": "ipython",
    "version": 3
   },
   "file_extension": ".py",
   "mimetype": "text/x-python",
   "name": "python",
   "nbconvert_exporter": "python",
   "pygments_lexer": "ipython3",
   "version": "3.12.0"
  }
 },
 "nbformat": 4,
 "nbformat_minor": 5
}
